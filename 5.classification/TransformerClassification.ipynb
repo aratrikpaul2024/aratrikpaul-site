{
  "cells": [
    {
      "cell_type": "markdown",
      "metadata": {
        "id": "inr4HSeKoZbE"
      },
      "source": [
        "[![Open In Colab](https://colab.research.google.com/assets/colab-badge.svg)](https://colab.research.google.com/github/dbamman/anlp25/blob/main/5.classification/TransformerClassification.ipynb)\n",
        "\n",
        "**N.B.** Once it's open on Colab, remember to save a copy (by e.g. clicking `Copy to Drive` above).\n",
        "\n",
        "---"
      ]
    },
    {
      "cell_type": "markdown",
      "metadata": {
        "id": "ubRzhaCVXYUy"
      },
      "source": [
        "Thie notebook explores using transformers for document classification.  Before starting, change the runtime to GPU: Runtime > Change runtime type > Hardware accelerator: GPU (any GPU is fine).\n",
        "\n",
        "For an intro to models in PyTorch, see [this tutorial](https://pytorch.org/tutorials/beginner/introyt/modelsyt_tutorial.html).\n",
        "\n",
        "\n"
      ]
    },
    {
      "cell_type": "markdown",
      "metadata": {
        "id": "eQnqbL-NjmiP"
      },
      "source": [
        "Download classification data for training/evaluation."
      ]
    },
    {
      "cell_type": "code",
      "execution_count": 1,
      "metadata": {
        "colab": {
          "base_uri": "https://localhost:8080/"
        },
        "id": "X9UUcu7TG6sg",
        "outputId": "96d80b10-7ae2-47a4-875c-c5384ff1d5da"
      },
      "outputs": [
        {
          "output_type": "stream",
          "name": "stdout",
          "text": [
            "--2025-10-07 23:45:24--  https://raw.githubusercontent.com/dbamman/anlp25/main/data/convote/train.tsv\n",
            "Resolving raw.githubusercontent.com (raw.githubusercontent.com)... 185.199.110.133, 185.199.108.133, 185.199.109.133, ...\n",
            "Connecting to raw.githubusercontent.com (raw.githubusercontent.com)|185.199.110.133|:443... connected.\n",
            "HTTP request sent, awaiting response... 200 OK\n",
            "Length: 4660140 (4.4M) [text/plain]\n",
            "Saving to: ‘train.tsv’\n",
            "\n",
            "train.tsv           100%[===================>]   4.44M  --.-KB/s    in 0.03s   \n",
            "\n",
            "2025-10-07 23:45:24 (148 MB/s) - ‘train.tsv’ saved [4660140/4660140]\n",
            "\n",
            "--2025-10-07 23:45:24--  https://raw.githubusercontent.com/dbamman/anlp25/main/data/convote/dev.tsv\n",
            "Resolving raw.githubusercontent.com (raw.githubusercontent.com)... 185.199.109.133, 185.199.110.133, 185.199.111.133, ...\n",
            "Connecting to raw.githubusercontent.com (raw.githubusercontent.com)|185.199.109.133|:443... connected.\n",
            "HTTP request sent, awaiting response... 200 OK\n",
            "Length: 351382 (343K) [text/plain]\n",
            "Saving to: ‘dev.tsv’\n",
            "\n",
            "dev.tsv             100%[===================>] 343.15K  --.-KB/s    in 0.01s   \n",
            "\n",
            "2025-10-07 23:45:24 (24.3 MB/s) - ‘dev.tsv’ saved [351382/351382]\n",
            "\n"
          ]
        }
      ],
      "source": [
        "!wget https://raw.githubusercontent.com/dbamman/anlp25/main/data/convote/train.tsv\n",
        "!wget https://raw.githubusercontent.com/dbamman/anlp25/main/data/convote/dev.tsv"
      ]
    },
    {
      "cell_type": "code",
      "execution_count": 2,
      "metadata": {
        "id": "PwsQCWgmHLrP"
      },
      "outputs": [],
      "source": [
        "import math\n",
        "import sys\n",
        "import torch\n",
        "from torch import nn\n",
        "from collections import Counter\n",
        "from nltk import word_tokenize"
      ]
    },
    {
      "cell_type": "code",
      "execution_count": 4,
      "metadata": {
        "colab": {
          "base_uri": "https://localhost:8080/"
        },
        "id": "eS2rympQIObz",
        "outputId": "61c821da-d0bd-419d-f366-3641f2c48dce"
      },
      "outputs": [
        {
          "output_type": "stream",
          "name": "stderr",
          "text": [
            "[nltk_data] Downloading package punkt to /root/nltk_data...\n",
            "[nltk_data]   Package punkt is already up-to-date!\n",
            "[nltk_data] Downloading package punkt_tab to /root/nltk_data...\n",
            "[nltk_data]   Package punkt_tab is already up-to-date!\n"
          ]
        },
        {
          "output_type": "execute_result",
          "data": {
            "text/plain": [
              "True"
            ]
          },
          "metadata": {},
          "execution_count": 4
        }
      ],
      "source": [
        "import nltk\n",
        "nltk.download('punkt')\n",
        "nltk.download('punkt_tab')"
      ]
    },
    {
      "cell_type": "code",
      "execution_count": 5,
      "metadata": {
        "id": "QDlR2HlLHO7J"
      },
      "outputs": [],
      "source": [
        "device = torch.device(\"cuda\" if torch.cuda.is_available() else \"cpu\")\n"
      ]
    },
    {
      "cell_type": "code",
      "execution_count": 6,
      "metadata": {
        "colab": {
          "base_uri": "https://localhost:8080/"
        },
        "id": "l3zDewVZHW23",
        "outputId": "b18af5e8-410f-4eb0-b7c4-1fe42a8fe7e6"
      },
      "outputs": [
        {
          "output_type": "stream",
          "name": "stdout",
          "text": [
            "\n",
            "********************************************\n",
            "Running on: cuda\n",
            "********************************************\n",
            "\n"
          ]
        }
      ],
      "source": [
        "# max sequence length\n",
        "max_length=256\n",
        "\n",
        "# limit vocabulary to top N words in training data\n",
        "max_vocab=10000\n",
        "\n",
        "# batch size\n",
        "batch_size=128\n",
        "\n",
        "# size of token representations (which dictates the size of the overall model).\n",
        "d_model=16\n",
        "\n",
        "\n",
        "# number of epochs\n",
        "num_epochs=50\n",
        "\n",
        "print('')\n",
        "print(\"********************************************\")\n",
        "print(\"Running on: {}\".format(device))\n",
        "print(\"********************************************\")\n",
        "print('')"
      ]
    },
    {
      "cell_type": "code",
      "execution_count": 7,
      "metadata": {
        "id": "h5IJ2unzHYzu"
      },
      "outputs": [],
      "source": [
        "# PositionalEncoding class copied from:\n",
        "# https://github.com/pytorch/examples/blob/main/word_language_model/model.py\n",
        "\n",
        "class PositionalEncoding(nn.Module):\n",
        "\n",
        "    def __init__(self, d_model, dropout=0.1):\n",
        "        super(PositionalEncoding, self).__init__()\n",
        "        self.dropout = nn.Dropout(p=dropout)\n",
        "\n",
        "        pe = torch.zeros(max_length, d_model)\n",
        "        position = torch.arange(0, max_length, dtype=torch.float).unsqueeze(1)\n",
        "        div_term = torch.exp(torch.arange(0, d_model, 2).float() * (-math.log(10000.0) / d_model))\n",
        "        pe[:, 0::2] = torch.sin(position * div_term)\n",
        "        pe[:, 1::2] = torch.cos(position * div_term)\n",
        "        pe = pe.unsqueeze(0)#.transpose(0, 1)\n",
        "        self.register_buffer('pe', pe)\n",
        "\n",
        "    def forward(self, x):\n",
        "\n",
        "        x = x + self.pe[:x.size(0), :]\n",
        "        return self.dropout(x)\n"
      ]
    },
    {
      "cell_type": "code",
      "execution_count": 8,
      "metadata": {
        "id": "pMTmsPDjHast"
      },
      "outputs": [],
      "source": [
        "class TransformerClassifier(torch.nn.Module):\n",
        "\n",
        "    def __init__(self, num_labels, d_model, nhead=2, num_encoder_layers=1, dim_feedforward=256):\n",
        "\n",
        "        super(TransformerClassifier, self).__init__()\n",
        "\n",
        "        self.num_labels = num_labels\n",
        "        self.embedding = nn.Embedding(num_embeddings=max_vocab+2, embedding_dim=d_model)\n",
        "        self.transformer = nn.Transformer(\n",
        "            d_model=d_model,\n",
        "            nhead=nhead,\n",
        "            num_encoder_layers=num_encoder_layers,\n",
        "            dim_feedforward=dim_feedforward,\n",
        "            batch_first=True,\n",
        "            dropout=0.5\n",
        "        )\n",
        "        self.classifier = nn.Linear(d_model, self.num_labels)\n",
        "        self.pos_encoder = PositionalEncoding(d_model)\n",
        "\n",
        "    def forward(self, x, m):\n",
        "\n",
        "        # put data on device (e.g., gpu)\n",
        "        x = x.to(device)\n",
        "        m = m.to(device)\n",
        "\n",
        "        # convert input token IDs to word embeddings\n",
        "        embed = self.embedding(x)\n",
        "\n",
        "        # add position encodings to include information about word position within the document\n",
        "        embed = self.pos_encoder(embed)\n",
        "\n",
        "        # get transformer output\n",
        "        h = self.transformer.encoder(embed, src_key_padding_mask=m)\n",
        "\n",
        "        # Represent document as average embedding of transformer output\n",
        "        h = torch.mean(h, dim=1)\n",
        "\n",
        "        # Convert document representation into output label space\n",
        "        logits = self.classifier(h)\n",
        "\n",
        "        return logits\n"
      ]
    },
    {
      "cell_type": "code",
      "execution_count": 9,
      "metadata": {
        "id": "TT56POLcHcLM"
      },
      "outputs": [],
      "source": [
        "def create_vocab_and_labels(filename, max_vocab):\n",
        "    # This function creates the word vocabulary (and label ids) from the training data\n",
        "    # The vocab is a mapping between word types and unique word IDs\n",
        "\n",
        "    counts = Counter()\n",
        "    labels = {}\n",
        "    with open(filename, encoding=\"utf-8\") as file:\n",
        "        for line in file:\n",
        "            cols = line.rstrip().split(\"\\t\")\n",
        "            lab = cols[0]\n",
        "            text = word_tokenize(cols[1].lower())\n",
        "            for tok in text:\n",
        "                counts[tok] += 1\n",
        "\n",
        "            if lab not in labels:\n",
        "                labels[lab] = len(labels)\n",
        "\n",
        "    vocab = {\"[MASK]\":0, \"[UNK]\":1}\n",
        "\n",
        "    for k,v in counts.most_common(max_vocab):\n",
        "        vocab[k] = len(vocab)\n",
        "\n",
        "    return vocab, labels"
      ]
    },
    {
      "cell_type": "code",
      "execution_count": 10,
      "metadata": {
        "id": "tB9Vv3TiHdkW"
      },
      "outputs": [],
      "source": [
        "def read_data(filename, vocab, labels, max_length, max_docs=5000):\n",
        "    # Read in data from file, up to the first max_docs documents. For each document\n",
        "    # read up to max_length tokens.\n",
        "\n",
        "    x = []\n",
        "    y = []\n",
        "    m = []\n",
        "\n",
        "    with open(filename, encoding=\"utf-8\") as file:\n",
        "        for idx, line in enumerate(file):\n",
        "            if idx >= max_docs:\n",
        "                break\n",
        "            cols = line.rstrip().split(\"\\t\")\n",
        "            lab = cols[0]\n",
        "            text = word_tokenize(cols[1])\n",
        "            text_ids = []\n",
        "            for tok in text:\n",
        "                if tok in vocab:\n",
        "                    text_ids.append(vocab[tok])\n",
        "                else:\n",
        "                    text_ids.append(vocab[\"[UNK]\"])\n",
        "\n",
        "            text_ids = text_ids[:max_length]\n",
        "\n",
        "            # PyTorch (and most libraries that deal with matrix operations) expects all inputs to be the same length\n",
        "            # So pad each document with 0s up to max_length\n",
        "            # But keep track of the true number of tokens in the document with the \"mask\" list.\n",
        "\n",
        "            # True tokens have a mask value of 0\n",
        "            mask = [0] * len(text_ids)\n",
        "\n",
        "            for i in range(len(text_ids), max_length):\n",
        "                text_ids.append(vocab[\"[MASK]\"])\n",
        "                # Padded tokens have a mask value of 1\n",
        "                mask.append(1)\n",
        "\n",
        "            x.append(text_ids)\n",
        "            m.append(mask)\n",
        "            y.append(labels[lab])\n",
        "\n",
        "    return x, y, m"
      ]
    },
    {
      "cell_type": "code",
      "execution_count": 11,
      "metadata": {
        "id": "dglYDfx-HfEt"
      },
      "outputs": [],
      "source": [
        "def get_batches(x, y, m, batch_size):\n",
        "\n",
        "    # Create minibatches from the full dataset\n",
        "\n",
        "    batches_x = []\n",
        "    batches_y = []\n",
        "    batches_m = []\n",
        "    for i in range(0, len(x), batch_size):\n",
        "        xbatch = x[i:i+batch_size]\n",
        "        ybatch = y[i:i+batch_size]\n",
        "        mbatch = m[i:i+batch_size]\n",
        "\n",
        "        batches_x.append(torch.LongTensor(xbatch))\n",
        "        batches_y.append(torch.LongTensor(ybatch))\n",
        "        batches_m.append(torch.BoolTensor(mbatch))\n",
        "\n",
        "    return batches_x, batches_y, batches_m"
      ]
    },
    {
      "cell_type": "code",
      "execution_count": 12,
      "metadata": {
        "id": "_g5m_NjzHgsW"
      },
      "outputs": [],
      "source": [
        "def evaluate(model, all_x, all_y, all_m):\n",
        "\n",
        "    # Calculate accuracy\n",
        "\n",
        "    model.eval()\n",
        "    corr = 0.\n",
        "    total = 0.\n",
        "    with torch.no_grad():\n",
        "        for x, y, m in zip(all_x, all_y, all_m):\n",
        "            y_preds = model.forward(x, m)\n",
        "            for idx, y_pred in enumerate(y_preds):\n",
        "                prediction = torch.argmax(y_pred)\n",
        "                if prediction == y[idx]:\n",
        "                    corr += 1.\n",
        "                total += 1\n",
        "    return corr / total"
      ]
    },
    {
      "cell_type": "code",
      "execution_count": 13,
      "metadata": {
        "id": "eLjdIDl4HiDE"
      },
      "outputs": [],
      "source": [
        "def train(model, model_filename, train_x, train_y, train_m, dev_x, dev_y, dev_m, shuffle=False):\n",
        "\n",
        "    optimizer = torch.optim.Adam(model.parameters(), lr=0.001)\n",
        "    cross_entropy = nn.CrossEntropyLoss()\n",
        "\n",
        "    # Keep track of the epoch that has the best dev accuracy\n",
        "    best_dev_acc = 0.\n",
        "    best_dev_epoch = None\n",
        "\n",
        "    losses = []\n",
        "\n",
        "    # How many epochs with no changes before we quit\n",
        "    patience = 20\n",
        "\n",
        "    dev_batches_x, dev_batches_y, dev_batches_m = get_batches(dev_x, dev_y, dev_m, batch_size=batch_size)\n",
        "\n",
        "    for epoch in range(num_epochs):\n",
        "\n",
        "        model.train()\n",
        "\n",
        "        if shuffle:\n",
        "            # shuffle batches\n",
        "            shuffled_idx = torch.randperm(len(train_x))\n",
        "            train_x = [train_x[i] for i in shuffled_idx]\n",
        "            train_y = [train_y[i] for i in shuffled_idx]\n",
        "            train_m = [train_m[i] for i in shuffled_idx]\n",
        "\n",
        "        train_batches_x, train_batches_y, train_batches_m = get_batches(train_x, train_y, train_m, batch_size=batch_size)\n",
        "\n",
        "        for x, y, m in zip(train_batches_x, train_batches_y, train_batches_m):\n",
        "            # Get predictions for batch x (with mask values m)\n",
        "            y_pred = model.forward(x, m)\n",
        "            y = y.to(device)\n",
        "\n",
        "            # Calculate loss as cross-entropy with true labels\n",
        "            loss = cross_entropy(y_pred.view(-1, model.num_labels), y.view(-1))\n",
        "\n",
        "            # Set all gradients to zero\n",
        "            optimizer.zero_grad()\n",
        "\n",
        "            # Calculate gradients from current loss\n",
        "            loss.backward()\n",
        "            losses.append(loss.item())\n",
        "\n",
        "            # Update parameters\n",
        "            optimizer.step()\n",
        "\n",
        "        dev_accuracy = evaluate(model, dev_batches_x, dev_batches_y, dev_batches_m)\n",
        "        train_accuracy = evaluate(model, train_batches_x, train_batches_y, train_batches_m)\n",
        "\n",
        "        # we're going to save the model that performs the best on *dev* data\n",
        "        if dev_accuracy > best_dev_acc:\n",
        "            torch.save(model.state_dict(), model_filename)\n",
        "            print(\"%.3f is better than %.3f, saving model ...\" % (dev_accuracy, best_dev_acc))\n",
        "            best_dev_acc = dev_accuracy\n",
        "            best_dev_epoch = epoch\n",
        "\n",
        "        if epoch % 1 == 0:\n",
        "            print(\"Epoch %s, dev accuracy: %.3f, train accuracy: %.3f\" % (epoch, dev_accuracy, train_accuracy))\n",
        "\n",
        "        if epoch-best_dev_epoch > patience:\n",
        "          print(\"%s > patience (%s), stopping...\" % (epoch-best_dev_epoch, patience))\n",
        "          break\n",
        "\n",
        "    model.load_state_dict(torch.load(model_filename))\n",
        "    print(\"\\nBest Performing Model achieves dev accuracy of : %.3f\" % (best_dev_acc))\n",
        "\n",
        "    return losses"
      ]
    },
    {
      "cell_type": "code",
      "execution_count": 14,
      "metadata": {
        "id": "_nkNh6f8HkL2"
      },
      "outputs": [],
      "source": [
        "vocab, labels = create_vocab_and_labels(\"train.tsv\", max_vocab)\n",
        "train_x, train_y, train_m = read_data(\"train.tsv\", vocab, labels, max_length=max_length)\n",
        "dev_x, dev_y, dev_m = read_data(\"dev.tsv\", vocab, labels, max_length=max_length)"
      ]
    },
    {
      "cell_type": "code",
      "execution_count": 15,
      "metadata": {
        "colab": {
          "base_uri": "https://localhost:8080/"
        },
        "id": "0vtxV6jpHrAV",
        "outputId": "9ffba585-21c4-458c-cac7-49ff09c1d1fc"
      },
      "outputs": [
        {
          "output_type": "stream",
          "name": "stderr",
          "text": [
            "/usr/local/lib/python3.12/dist-packages/torch/nn/modules/transformer.py:515: UserWarning: The PyTorch API of nested tensors is in prototype stage and will change in the near future. We recommend specifying layout=torch.jagged when constructing a nested tensor, as this layout receives active development, has better operator coverage, and works with torch.compile. (Triggered internally at /pytorch/aten/src/ATen/NestedTensorImpl.cpp:178.)\n",
            "  output = torch._nested_tensor_from_mask(\n"
          ]
        },
        {
          "output_type": "stream",
          "name": "stdout",
          "text": [
            "0.494 is better than 0.000, saving model ...\n",
            "Epoch 0, dev accuracy: 0.494, train accuracy: 0.496\n",
            "Epoch 1, dev accuracy: 0.494, train accuracy: 0.496\n",
            "0.510 is better than 0.494, saving model ...\n",
            "Epoch 2, dev accuracy: 0.510, train accuracy: 0.507\n",
            "0.541 is better than 0.510, saving model ...\n",
            "Epoch 3, dev accuracy: 0.541, train accuracy: 0.553\n",
            "0.654 is better than 0.541, saving model ...\n",
            "Epoch 4, dev accuracy: 0.654, train accuracy: 0.668\n",
            "Epoch 5, dev accuracy: 0.623, train accuracy: 0.675\n",
            "Epoch 6, dev accuracy: 0.646, train accuracy: 0.705\n",
            "Epoch 7, dev accuracy: 0.634, train accuracy: 0.737\n",
            "Epoch 8, dev accuracy: 0.646, train accuracy: 0.743\n",
            "Epoch 9, dev accuracy: 0.646, train accuracy: 0.763\n",
            "Epoch 10, dev accuracy: 0.642, train accuracy: 0.793\n",
            "Epoch 11, dev accuracy: 0.615, train accuracy: 0.697\n",
            "Epoch 12, dev accuracy: 0.638, train accuracy: 0.812\n",
            "Epoch 13, dev accuracy: 0.630, train accuracy: 0.817\n",
            "Epoch 14, dev accuracy: 0.611, train accuracy: 0.787\n",
            "Epoch 15, dev accuracy: 0.595, train accuracy: 0.806\n",
            "Epoch 16, dev accuracy: 0.638, train accuracy: 0.857\n",
            "Epoch 17, dev accuracy: 0.630, train accuracy: 0.862\n",
            "Epoch 18, dev accuracy: 0.623, train accuracy: 0.825\n",
            "Epoch 19, dev accuracy: 0.619, train accuracy: 0.823\n",
            "Epoch 20, dev accuracy: 0.626, train accuracy: 0.866\n",
            "Epoch 21, dev accuracy: 0.626, train accuracy: 0.858\n",
            "Epoch 22, dev accuracy: 0.630, train accuracy: 0.861\n",
            "Epoch 23, dev accuracy: 0.607, train accuracy: 0.861\n",
            "Epoch 24, dev accuracy: 0.611, train accuracy: 0.864\n",
            "Epoch 25, dev accuracy: 0.599, train accuracy: 0.853\n",
            "21 > patience (20), stopping...\n",
            "\n",
            "Best Performing Model achieves dev accuracy of : 0.654\n"
          ]
        }
      ],
      "source": [
        "classifier = TransformerClassifier(num_labels=len(labels), d_model=100, dim_feedforward=512)\n",
        "classifier = classifier.to(device)\n",
        "\n",
        "train_x_batch, train_y_batch, train_m_batch = get_batches(train_x, train_y, train_m, batch_size=batch_size)\n",
        "dev_x_batch, dev_y_batch, dev_m_batch = get_batches(dev_x, dev_y, dev_m, batch_size=batch_size)\n",
        "\n",
        "losses = train(classifier, \"test.model\", train_x, train_y, train_m, dev_x, dev_y, dev_m)"
      ]
    },
    {
      "cell_type": "markdown",
      "metadata": {
        "id": "R3dn2o1KKdz_"
      },
      "source": [
        "**Q1**. Play around with this transformer as implemented and experiment with how performance on the dev data changes as a function of `d_model`, `num_encoder_layers`, `nhead`, etc.).  Describe your experiments and report dev accuracy on them below."
      ]
    },
    {
      "cell_type": "code",
      "execution_count": 19,
      "metadata": {
        "id": "XiWT6yumKD_l",
        "colab": {
          "base_uri": "https://localhost:8080/",
          "height": 1000
        },
        "outputId": "8701a6e8-06ae-46df-fd48-0e899ac5e634"
      },
      "outputs": [
        {
          "output_type": "stream",
          "name": "stdout",
          "text": [
            "\n",
            "Running baseline configuration...\n",
            "\n",
            "0.506 is better than 0.000, saving model ...\n",
            "Epoch 0, dev accuracy: 0.506, train accuracy: 0.504\n",
            "0.556 is better than 0.506, saving model ...\n",
            "Epoch 1, dev accuracy: 0.556, train accuracy: 0.542\n",
            "Epoch 2, dev accuracy: 0.541, train accuracy: 0.552\n",
            "0.572 is better than 0.556, saving model ...\n",
            "Epoch 3, dev accuracy: 0.572, train accuracy: 0.620\n",
            "0.619 is better than 0.572, saving model ...\n",
            "Epoch 4, dev accuracy: 0.619, train accuracy: 0.648\n",
            "0.626 is better than 0.619, saving model ...\n",
            "Epoch 5, dev accuracy: 0.626, train accuracy: 0.683\n",
            "0.634 is better than 0.626, saving model ...\n",
            "Epoch 6, dev accuracy: 0.634, train accuracy: 0.715\n",
            "0.669 is better than 0.634, saving model ...\n",
            "Epoch 7, dev accuracy: 0.669, train accuracy: 0.753\n",
            "Epoch 8, dev accuracy: 0.654, train accuracy: 0.722\n",
            "Epoch 9, dev accuracy: 0.603, train accuracy: 0.741\n",
            "0.677 is better than 0.669, saving model ...\n",
            "Epoch 10, dev accuracy: 0.677, train accuracy: 0.800\n",
            "0.681 is better than 0.677, saving model ...\n",
            "Epoch 11, dev accuracy: 0.681, train accuracy: 0.813\n",
            "Epoch 12, dev accuracy: 0.661, train accuracy: 0.816\n",
            "Epoch 13, dev accuracy: 0.646, train accuracy: 0.836\n",
            "Epoch 14, dev accuracy: 0.677, train accuracy: 0.835\n",
            "Epoch 15, dev accuracy: 0.681, train accuracy: 0.842\n",
            "Epoch 16, dev accuracy: 0.619, train accuracy: 0.852\n",
            "Epoch 17, dev accuracy: 0.654, train accuracy: 0.856\n",
            "Epoch 18, dev accuracy: 0.654, train accuracy: 0.869\n",
            "Epoch 19, dev accuracy: 0.630, train accuracy: 0.855\n",
            "\n",
            "Best Performing Model achieves dev accuracy of : 0.681\n",
            "[baseline] d_model=100, layers=1, heads=2, dev_acc=0.6809, time=22.9s\n",
            "\n",
            "Baseline accuracy: 0.6809338521400778\n",
            "\n",
            "Running grid search...\n",
            "\n",
            "0.514 is better than 0.000, saving model ...\n",
            "Epoch 0, dev accuracy: 0.514, train accuracy: 0.573\n",
            "0.549 is better than 0.514, saving model ...\n",
            "Epoch 1, dev accuracy: 0.549, train accuracy: 0.541\n",
            "0.580 is better than 0.549, saving model ...\n",
            "Epoch 2, dev accuracy: 0.580, train accuracy: 0.607\n",
            "0.588 is better than 0.580, saving model ...\n",
            "Epoch 3, dev accuracy: 0.588, train accuracy: 0.658\n",
            "Epoch 4, dev accuracy: 0.568, train accuracy: 0.679\n",
            "Epoch 5, dev accuracy: 0.564, train accuracy: 0.598\n",
            "0.611 is better than 0.588, saving model ...\n",
            "Epoch 6, dev accuracy: 0.611, train accuracy: 0.731\n",
            "0.630 is better than 0.611, saving model ...\n",
            "Epoch 7, dev accuracy: 0.630, train accuracy: 0.752\n",
            "Epoch 8, dev accuracy: 0.619, train accuracy: 0.770\n",
            "Epoch 9, dev accuracy: 0.630, train accuracy: 0.755\n",
            "0.646 is better than 0.630, saving model ...\n",
            "Epoch 10, dev accuracy: 0.646, train accuracy: 0.774\n",
            "Epoch 11, dev accuracy: 0.615, train accuracy: 0.805\n",
            "Epoch 12, dev accuracy: 0.623, train accuracy: 0.811\n",
            "Epoch 13, dev accuracy: 0.638, train accuracy: 0.841\n",
            "Epoch 14, dev accuracy: 0.634, train accuracy: 0.852\n",
            "Epoch 15, dev accuracy: 0.611, train accuracy: 0.842\n",
            "Epoch 16, dev accuracy: 0.591, train accuracy: 0.827\n",
            "Epoch 17, dev accuracy: 0.607, train accuracy: 0.854\n",
            "Epoch 18, dev accuracy: 0.638, train accuracy: 0.875\n",
            "Epoch 19, dev accuracy: 0.611, train accuracy: 0.861\n",
            "\n",
            "Best Performing Model achieves dev accuracy of : 0.646\n",
            "[d64_L1_H2] d_model=64, layers=1, heads=2, dev_acc=0.6459, time=17.2s\n",
            "0.482 is better than 0.000, saving model ...\n",
            "Epoch 0, dev accuracy: 0.482, train accuracy: 0.540\n",
            "0.525 is better than 0.482, saving model ...\n",
            "Epoch 1, dev accuracy: 0.525, train accuracy: 0.543\n",
            "Epoch 2, dev accuracy: 0.521, train accuracy: 0.579\n",
            "0.533 is better than 0.525, saving model ...\n",
            "Epoch 3, dev accuracy: 0.533, train accuracy: 0.617\n",
            "0.568 is better than 0.533, saving model ...\n",
            "Epoch 4, dev accuracy: 0.568, train accuracy: 0.626\n",
            "0.611 is better than 0.568, saving model ...\n",
            "Epoch 5, dev accuracy: 0.611, train accuracy: 0.675\n",
            "Epoch 6, dev accuracy: 0.564, train accuracy: 0.692\n",
            "Epoch 7, dev accuracy: 0.588, train accuracy: 0.704\n",
            "Epoch 8, dev accuracy: 0.560, train accuracy: 0.699\n",
            "Epoch 9, dev accuracy: 0.603, train accuracy: 0.767\n",
            "Epoch 10, dev accuracy: 0.595, train accuracy: 0.779\n",
            "0.619 is better than 0.611, saving model ...\n",
            "Epoch 11, dev accuracy: 0.619, train accuracy: 0.796\n",
            "Epoch 12, dev accuracy: 0.619, train accuracy: 0.807\n",
            "Epoch 13, dev accuracy: 0.611, train accuracy: 0.821\n",
            "0.623 is better than 0.619, saving model ...\n",
            "Epoch 14, dev accuracy: 0.623, train accuracy: 0.831\n",
            "Epoch 15, dev accuracy: 0.619, train accuracy: 0.838\n",
            "0.630 is better than 0.623, saving model ...\n",
            "Epoch 16, dev accuracy: 0.630, train accuracy: 0.846\n",
            "Epoch 17, dev accuracy: 0.611, train accuracy: 0.848\n",
            "Epoch 18, dev accuracy: 0.630, train accuracy: 0.856\n",
            "Epoch 19, dev accuracy: 0.607, train accuracy: 0.849\n",
            "\n",
            "Best Performing Model achieves dev accuracy of : 0.630\n",
            "[d64_L1_H4] d_model=64, layers=1, heads=4, dev_acc=0.6304, time=19.4s\n",
            "0.533 is better than 0.000, saving model ...\n",
            "Epoch 0, dev accuracy: 0.533, train accuracy: 0.543\n",
            "Epoch 1, dev accuracy: 0.514, train accuracy: 0.521\n",
            "0.545 is better than 0.533, saving model ...\n",
            "Epoch 2, dev accuracy: 0.545, train accuracy: 0.565\n",
            "Epoch 3, dev accuracy: 0.537, train accuracy: 0.577\n",
            "0.599 is better than 0.545, saving model ...\n",
            "Epoch 4, dev accuracy: 0.599, train accuracy: 0.666\n",
            "Epoch 5, dev accuracy: 0.591, train accuracy: 0.682\n",
            "0.611 is better than 0.599, saving model ...\n",
            "Epoch 6, dev accuracy: 0.611, train accuracy: 0.700\n",
            "0.626 is better than 0.611, saving model ...\n",
            "Epoch 7, dev accuracy: 0.626, train accuracy: 0.728\n",
            "Epoch 8, dev accuracy: 0.615, train accuracy: 0.757\n",
            "0.634 is better than 0.626, saving model ...\n",
            "Epoch 9, dev accuracy: 0.634, train accuracy: 0.792\n",
            "0.677 is better than 0.634, saving model ...\n",
            "Epoch 10, dev accuracy: 0.677, train accuracy: 0.810\n",
            "Epoch 11, dev accuracy: 0.650, train accuracy: 0.826\n",
            "Epoch 12, dev accuracy: 0.638, train accuracy: 0.835\n",
            "Epoch 13, dev accuracy: 0.650, train accuracy: 0.856\n",
            "Epoch 14, dev accuracy: 0.654, train accuracy: 0.849\n",
            "Epoch 15, dev accuracy: 0.650, train accuracy: 0.841\n",
            "Epoch 16, dev accuracy: 0.654, train accuracy: 0.866\n",
            "Epoch 17, dev accuracy: 0.642, train accuracy: 0.865\n",
            "Epoch 18, dev accuracy: 0.654, train accuracy: 0.877\n",
            "Epoch 19, dev accuracy: 0.658, train accuracy: 0.892\n",
            "\n",
            "Best Performing Model achieves dev accuracy of : 0.677\n",
            "[d64_L1_H8] d_model=64, layers=1, heads=8, dev_acc=0.6770, time=23.9s\n",
            "0.510 is better than 0.000, saving model ...\n",
            "Epoch 0, dev accuracy: 0.510, train accuracy: 0.498\n",
            "0.529 is better than 0.510, saving model ...\n",
            "Epoch 1, dev accuracy: 0.529, train accuracy: 0.542\n",
            "Epoch 2, dev accuracy: 0.494, train accuracy: 0.496\n",
            "Epoch 3, dev accuracy: 0.498, train accuracy: 0.497\n",
            "0.549 is better than 0.529, saving model ...\n",
            "Epoch 4, dev accuracy: 0.549, train accuracy: 0.580\n",
            "0.654 is better than 0.549, saving model ...\n",
            "Epoch 5, dev accuracy: 0.654, train accuracy: 0.653\n",
            "Epoch 6, dev accuracy: 0.646, train accuracy: 0.678\n",
            "Epoch 7, dev accuracy: 0.630, train accuracy: 0.690\n",
            "0.661 is better than 0.654, saving model ...\n",
            "Epoch 8, dev accuracy: 0.661, train accuracy: 0.743\n",
            "Epoch 9, dev accuracy: 0.591, train accuracy: 0.700\n",
            "Epoch 10, dev accuracy: 0.623, train accuracy: 0.751\n",
            "Epoch 11, dev accuracy: 0.634, train accuracy: 0.781\n",
            "Epoch 12, dev accuracy: 0.595, train accuracy: 0.780\n",
            "Epoch 13, dev accuracy: 0.611, train accuracy: 0.801\n",
            "Epoch 14, dev accuracy: 0.615, train accuracy: 0.784\n",
            "Epoch 15, dev accuracy: 0.638, train accuracy: 0.832\n",
            "Epoch 16, dev accuracy: 0.603, train accuracy: 0.828\n",
            "Epoch 17, dev accuracy: 0.611, train accuracy: 0.840\n",
            "Epoch 18, dev accuracy: 0.615, train accuracy: 0.852\n",
            "Epoch 19, dev accuracy: 0.619, train accuracy: 0.856\n",
            "\n",
            "Best Performing Model achieves dev accuracy of : 0.661\n",
            "[d64_L2_H2] d_model=64, layers=2, heads=2, dev_acc=0.6615, time=29.2s\n",
            "0.510 is better than 0.000, saving model ...\n",
            "Epoch 0, dev accuracy: 0.510, train accuracy: 0.520\n",
            "0.525 is better than 0.510, saving model ...\n",
            "Epoch 1, dev accuracy: 0.525, train accuracy: 0.556\n",
            "0.553 is better than 0.525, saving model ...\n",
            "Epoch 2, dev accuracy: 0.553, train accuracy: 0.541\n",
            "0.576 is better than 0.553, saving model ...\n",
            "Epoch 3, dev accuracy: 0.576, train accuracy: 0.579\n",
            "Epoch 4, dev accuracy: 0.506, train accuracy: 0.636\n",
            "Epoch 5, dev accuracy: 0.486, train accuracy: 0.586\n",
            "Epoch 6, dev accuracy: 0.529, train accuracy: 0.646\n",
            "0.619 is better than 0.576, saving model ...\n",
            "Epoch 7, dev accuracy: 0.619, train accuracy: 0.721\n",
            "Epoch 8, dev accuracy: 0.549, train accuracy: 0.730\n",
            "Epoch 9, dev accuracy: 0.603, train accuracy: 0.781\n",
            "Epoch 10, dev accuracy: 0.611, train accuracy: 0.799\n",
            "Epoch 11, dev accuracy: 0.607, train accuracy: 0.813\n",
            "Epoch 12, dev accuracy: 0.595, train accuracy: 0.827\n",
            "Epoch 13, dev accuracy: 0.576, train accuracy: 0.803\n",
            "Epoch 14, dev accuracy: 0.615, train accuracy: 0.855\n",
            "0.623 is better than 0.619, saving model ...\n",
            "Epoch 15, dev accuracy: 0.623, train accuracy: 0.855\n",
            "Epoch 16, dev accuracy: 0.607, train accuracy: 0.850\n",
            "0.646 is better than 0.623, saving model ...\n",
            "Epoch 17, dev accuracy: 0.646, train accuracy: 0.837\n",
            "Epoch 18, dev accuracy: 0.619, train accuracy: 0.855\n",
            "Epoch 19, dev accuracy: 0.623, train accuracy: 0.869\n",
            "\n",
            "Best Performing Model achieves dev accuracy of : 0.646\n",
            "[d64_L2_H4] d_model=64, layers=2, heads=4, dev_acc=0.6459, time=32.9s\n",
            "0.521 is better than 0.000, saving model ...\n",
            "Epoch 0, dev accuracy: 0.521, train accuracy: 0.512\n",
            "Epoch 1, dev accuracy: 0.521, train accuracy: 0.545\n",
            "Epoch 2, dev accuracy: 0.494, train accuracy: 0.496\n",
            "0.525 is better than 0.521, saving model ...\n",
            "Epoch 3, dev accuracy: 0.525, train accuracy: 0.512\n",
            "0.568 is better than 0.525, saving model ...\n",
            "Epoch 4, dev accuracy: 0.568, train accuracy: 0.548\n",
            "Epoch 5, dev accuracy: 0.553, train accuracy: 0.604\n",
            "0.588 is better than 0.568, saving model ...\n",
            "Epoch 6, dev accuracy: 0.588, train accuracy: 0.647\n",
            "Epoch 7, dev accuracy: 0.537, train accuracy: 0.667\n",
            "Epoch 8, dev accuracy: 0.580, train accuracy: 0.690\n",
            "Epoch 9, dev accuracy: 0.584, train accuracy: 0.716\n",
            "0.661 is better than 0.588, saving model ...\n",
            "Epoch 10, dev accuracy: 0.661, train accuracy: 0.747\n",
            "Epoch 11, dev accuracy: 0.537, train accuracy: 0.711\n",
            "Epoch 12, dev accuracy: 0.599, train accuracy: 0.762\n",
            "Epoch 13, dev accuracy: 0.591, train accuracy: 0.779\n",
            "Epoch 14, dev accuracy: 0.591, train accuracy: 0.798\n",
            "Epoch 15, dev accuracy: 0.584, train accuracy: 0.798\n",
            "Epoch 16, dev accuracy: 0.588, train accuracy: 0.809\n",
            "Epoch 17, dev accuracy: 0.588, train accuracy: 0.819\n",
            "Epoch 18, dev accuracy: 0.591, train accuracy: 0.824\n",
            "Epoch 19, dev accuracy: 0.595, train accuracy: 0.834\n",
            "\n",
            "Best Performing Model achieves dev accuracy of : 0.661\n",
            "[d64_L2_H8] d_model=64, layers=2, heads=8, dev_acc=0.6615, time=40.9s\n",
            "0.494 is better than 0.000, saving model ...\n",
            "Epoch 0, dev accuracy: 0.494, train accuracy: 0.496\n",
            "0.595 is better than 0.494, saving model ...\n",
            "Epoch 1, dev accuracy: 0.595, train accuracy: 0.580\n",
            "0.661 is better than 0.595, saving model ...\n",
            "Epoch 2, dev accuracy: 0.661, train accuracy: 0.646\n",
            "0.665 is better than 0.661, saving model ...\n",
            "Epoch 3, dev accuracy: 0.665, train accuracy: 0.668\n",
            "Epoch 4, dev accuracy: 0.665, train accuracy: 0.695\n",
            "0.677 is better than 0.665, saving model ...\n",
            "Epoch 5, dev accuracy: 0.677, train accuracy: 0.731\n",
            "Epoch 6, dev accuracy: 0.638, train accuracy: 0.732\n",
            "Epoch 7, dev accuracy: 0.661, train accuracy: 0.762\n",
            "Epoch 8, dev accuracy: 0.658, train accuracy: 0.784\n",
            "Epoch 9, dev accuracy: 0.654, train accuracy: 0.796\n",
            "Epoch 10, dev accuracy: 0.646, train accuracy: 0.809\n",
            "Epoch 11, dev accuracy: 0.623, train accuracy: 0.830\n",
            "Epoch 12, dev accuracy: 0.638, train accuracy: 0.786\n",
            "Epoch 13, dev accuracy: 0.619, train accuracy: 0.836\n",
            "Epoch 14, dev accuracy: 0.654, train accuracy: 0.851\n",
            "Epoch 15, dev accuracy: 0.630, train accuracy: 0.852\n",
            "Epoch 16, dev accuracy: 0.642, train accuracy: 0.862\n",
            "Epoch 17, dev accuracy: 0.654, train accuracy: 0.873\n",
            "Epoch 18, dev accuracy: 0.642, train accuracy: 0.872\n",
            "Epoch 19, dev accuracy: 0.658, train accuracy: 0.876\n",
            "\n",
            "Best Performing Model achieves dev accuracy of : 0.677\n",
            "[d100_L1_H2] d_model=100, layers=1, heads=2, dev_acc=0.6770, time=22.1s\n",
            "0.510 is better than 0.000, saving model ...\n",
            "Epoch 0, dev accuracy: 0.510, train accuracy: 0.498\n",
            "Epoch 1, dev accuracy: 0.494, train accuracy: 0.497\n",
            "0.541 is better than 0.510, saving model ...\n",
            "Epoch 2, dev accuracy: 0.541, train accuracy: 0.558\n",
            "0.584 is better than 0.541, saving model ...\n",
            "Epoch 3, dev accuracy: 0.584, train accuracy: 0.611\n",
            "Epoch 4, dev accuracy: 0.545, train accuracy: 0.599\n",
            "Epoch 5, dev accuracy: 0.564, train accuracy: 0.679\n",
            "Epoch 6, dev accuracy: 0.576, train accuracy: 0.689\n",
            "0.619 is better than 0.584, saving model ...\n",
            "Epoch 7, dev accuracy: 0.619, train accuracy: 0.732\n",
            "Epoch 8, dev accuracy: 0.611, train accuracy: 0.765\n",
            "Epoch 9, dev accuracy: 0.591, train accuracy: 0.767\n",
            "Epoch 10, dev accuracy: 0.599, train accuracy: 0.788\n",
            "Epoch 11, dev accuracy: 0.607, train accuracy: 0.803\n",
            "Epoch 12, dev accuracy: 0.603, train accuracy: 0.817\n",
            "Epoch 13, dev accuracy: 0.603, train accuracy: 0.837\n",
            "Epoch 14, dev accuracy: 0.607, train accuracy: 0.839\n",
            "Epoch 15, dev accuracy: 0.615, train accuracy: 0.842\n",
            "Epoch 16, dev accuracy: 0.599, train accuracy: 0.859\n",
            "Epoch 17, dev accuracy: 0.611, train accuracy: 0.853\n",
            "Epoch 18, dev accuracy: 0.595, train accuracy: 0.857\n",
            "Epoch 19, dev accuracy: 0.599, train accuracy: 0.867\n",
            "\n",
            "Best Performing Model achieves dev accuracy of : 0.619\n",
            "[d100_L1_H4] d_model=100, layers=1, heads=4, dev_acc=0.6187, time=24.4s\n",
            "0.502 is better than 0.000, saving model ...\n",
            "Epoch 0, dev accuracy: 0.502, train accuracy: 0.507\n",
            "0.506 is better than 0.502, saving model ...\n",
            "Epoch 1, dev accuracy: 0.506, train accuracy: 0.504\n",
            "0.549 is better than 0.506, saving model ...\n",
            "Epoch 2, dev accuracy: 0.549, train accuracy: 0.583\n",
            "0.607 is better than 0.549, saving model ...\n",
            "Epoch 3, dev accuracy: 0.607, train accuracy: 0.584\n",
            "0.626 is better than 0.607, saving model ...\n",
            "Epoch 4, dev accuracy: 0.626, train accuracy: 0.686\n",
            "0.661 is better than 0.626, saving model ...\n",
            "Epoch 5, dev accuracy: 0.661, train accuracy: 0.698\n",
            "Epoch 6, dev accuracy: 0.626, train accuracy: 0.704\n",
            "Epoch 7, dev accuracy: 0.630, train accuracy: 0.747\n",
            "0.665 is better than 0.661, saving model ...\n",
            "Epoch 8, dev accuracy: 0.665, train accuracy: 0.784\n",
            "Epoch 9, dev accuracy: 0.603, train accuracy: 0.726\n",
            "Epoch 10, dev accuracy: 0.630, train accuracy: 0.777\n",
            "Epoch 11, dev accuracy: 0.623, train accuracy: 0.817\n",
            "Epoch 12, dev accuracy: 0.650, train accuracy: 0.846\n",
            "Epoch 13, dev accuracy: 0.630, train accuracy: 0.849\n",
            "Epoch 14, dev accuracy: 0.611, train accuracy: 0.860\n",
            "Epoch 15, dev accuracy: 0.599, train accuracy: 0.834\n",
            "Epoch 16, dev accuracy: 0.626, train accuracy: 0.872\n",
            "Epoch 17, dev accuracy: 0.626, train accuracy: 0.874\n",
            "Epoch 18, dev accuracy: 0.634, train accuracy: 0.880\n",
            "Epoch 19, dev accuracy: 0.634, train accuracy: 0.890\n",
            "\n",
            "Best Performing Model achieves dev accuracy of : 0.665\n",
            "[d100_L2_H2] d_model=100, layers=2, heads=2, dev_acc=0.6654, time=36.8s\n"
          ]
        },
        {
          "output_type": "error",
          "ename": "KeyboardInterrupt",
          "evalue": "",
          "traceback": [
            "\u001b[0;31m---------------------------------------------------------------------------\u001b[0m",
            "\u001b[0;31mKeyboardInterrupt\u001b[0m                         Traceback (most recent call last)",
            "\u001b[0;32m/tmp/ipython-input-536558844.py\u001b[0m in \u001b[0;36m<cell line: 0>\u001b[0;34m()\u001b[0m\n\u001b[1;32m     75\u001b[0m                 \u001b[0;32mcontinue\u001b[0m\u001b[0;34m\u001b[0m\u001b[0;34m\u001b[0m\u001b[0m\n\u001b[1;32m     76\u001b[0m             \u001b[0mtag\u001b[0m \u001b[0;34m=\u001b[0m \u001b[0;34mf\"d{d}_L{L}_H{H}\"\u001b[0m\u001b[0;34m\u001b[0m\u001b[0;34m\u001b[0m\u001b[0m\n\u001b[0;32m---> 77\u001b[0;31m             res = run_experiment(\n\u001b[0m\u001b[1;32m     78\u001b[0m                 \u001b[0md_model_val\u001b[0m\u001b[0;34m=\u001b[0m\u001b[0md\u001b[0m\u001b[0;34m,\u001b[0m\u001b[0;34m\u001b[0m\u001b[0;34m\u001b[0m\u001b[0m\n\u001b[1;32m     79\u001b[0m                 \u001b[0mnhead_val\u001b[0m\u001b[0;34m=\u001b[0m\u001b[0mH\u001b[0m\u001b[0;34m,\u001b[0m\u001b[0;34m\u001b[0m\u001b[0;34m\u001b[0m\u001b[0m\n",
            "\u001b[0;32m/tmp/ipython-input-536558844.py\u001b[0m in \u001b[0;36mrun_experiment\u001b[0;34m(d_model_val, nhead_val, num_layers_val, dim_ff_val, epochs, tag)\u001b[0m\n\u001b[1;32m     35\u001b[0m \u001b[0;34m\u001b[0m\u001b[0m\n\u001b[1;32m     36\u001b[0m     \u001b[0mstart\u001b[0m \u001b[0;34m=\u001b[0m \u001b[0mtime\u001b[0m\u001b[0;34m.\u001b[0m\u001b[0mtime\u001b[0m\u001b[0;34m(\u001b[0m\u001b[0;34m)\u001b[0m\u001b[0;34m\u001b[0m\u001b[0;34m\u001b[0m\u001b[0m\n\u001b[0;32m---> 37\u001b[0;31m     \u001b[0m_\u001b[0m \u001b[0;34m=\u001b[0m \u001b[0mtrain\u001b[0m\u001b[0;34m(\u001b[0m\u001b[0mmodel\u001b[0m\u001b[0;34m,\u001b[0m \u001b[0mmodel_file\u001b[0m\u001b[0;34m,\u001b[0m \u001b[0mtrain_x\u001b[0m\u001b[0;34m,\u001b[0m \u001b[0mtrain_y\u001b[0m\u001b[0;34m,\u001b[0m \u001b[0mtrain_m\u001b[0m\u001b[0;34m,\u001b[0m \u001b[0mdev_x\u001b[0m\u001b[0;34m,\u001b[0m \u001b[0mdev_y\u001b[0m\u001b[0;34m,\u001b[0m \u001b[0mdev_m\u001b[0m\u001b[0;34m,\u001b[0m \u001b[0mshuffle\u001b[0m\u001b[0;34m=\u001b[0m\u001b[0;32mTrue\u001b[0m\u001b[0;34m)\u001b[0m\u001b[0;34m\u001b[0m\u001b[0;34m\u001b[0m\u001b[0m\n\u001b[0m\u001b[1;32m     38\u001b[0m     \u001b[0mend\u001b[0m \u001b[0;34m=\u001b[0m \u001b[0mtime\u001b[0m\u001b[0;34m.\u001b[0m\u001b[0mtime\u001b[0m\u001b[0;34m(\u001b[0m\u001b[0;34m)\u001b[0m\u001b[0;34m\u001b[0m\u001b[0;34m\u001b[0m\u001b[0m\n\u001b[1;32m     39\u001b[0m \u001b[0;34m\u001b[0m\u001b[0m\n",
            "\u001b[0;32m/tmp/ipython-input-2440482713.py\u001b[0m in \u001b[0;36mtrain\u001b[0;34m(model, model_filename, train_x, train_y, train_m, dev_x, dev_y, dev_m, shuffle)\u001b[0m\n\u001b[1;32m     26\u001b[0m             \u001b[0mtrain_m\u001b[0m \u001b[0;34m=\u001b[0m \u001b[0;34m[\u001b[0m\u001b[0mtrain_m\u001b[0m\u001b[0;34m[\u001b[0m\u001b[0mi\u001b[0m\u001b[0;34m]\u001b[0m \u001b[0;32mfor\u001b[0m \u001b[0mi\u001b[0m \u001b[0;32min\u001b[0m \u001b[0mshuffled_idx\u001b[0m\u001b[0;34m]\u001b[0m\u001b[0;34m\u001b[0m\u001b[0;34m\u001b[0m\u001b[0m\n\u001b[1;32m     27\u001b[0m \u001b[0;34m\u001b[0m\u001b[0m\n\u001b[0;32m---> 28\u001b[0;31m         \u001b[0mtrain_batches_x\u001b[0m\u001b[0;34m,\u001b[0m \u001b[0mtrain_batches_y\u001b[0m\u001b[0;34m,\u001b[0m \u001b[0mtrain_batches_m\u001b[0m \u001b[0;34m=\u001b[0m \u001b[0mget_batches\u001b[0m\u001b[0;34m(\u001b[0m\u001b[0mtrain_x\u001b[0m\u001b[0;34m,\u001b[0m \u001b[0mtrain_y\u001b[0m\u001b[0;34m,\u001b[0m \u001b[0mtrain_m\u001b[0m\u001b[0;34m,\u001b[0m \u001b[0mbatch_size\u001b[0m\u001b[0;34m=\u001b[0m\u001b[0mbatch_size\u001b[0m\u001b[0;34m)\u001b[0m\u001b[0;34m\u001b[0m\u001b[0;34m\u001b[0m\u001b[0m\n\u001b[0m\u001b[1;32m     29\u001b[0m \u001b[0;34m\u001b[0m\u001b[0m\n\u001b[1;32m     30\u001b[0m         \u001b[0;32mfor\u001b[0m \u001b[0mx\u001b[0m\u001b[0;34m,\u001b[0m \u001b[0my\u001b[0m\u001b[0;34m,\u001b[0m \u001b[0mm\u001b[0m \u001b[0;32min\u001b[0m \u001b[0mzip\u001b[0m\u001b[0;34m(\u001b[0m\u001b[0mtrain_batches_x\u001b[0m\u001b[0;34m,\u001b[0m \u001b[0mtrain_batches_y\u001b[0m\u001b[0;34m,\u001b[0m \u001b[0mtrain_batches_m\u001b[0m\u001b[0;34m)\u001b[0m\u001b[0;34m:\u001b[0m\u001b[0;34m\u001b[0m\u001b[0;34m\u001b[0m\u001b[0m\n",
            "\u001b[0;32m/tmp/ipython-input-705516410.py\u001b[0m in \u001b[0;36mget_batches\u001b[0;34m(x, y, m, batch_size)\u001b[0m\n\u001b[1;32m     13\u001b[0m         \u001b[0mbatches_x\u001b[0m\u001b[0;34m.\u001b[0m\u001b[0mappend\u001b[0m\u001b[0;34m(\u001b[0m\u001b[0mtorch\u001b[0m\u001b[0;34m.\u001b[0m\u001b[0mLongTensor\u001b[0m\u001b[0;34m(\u001b[0m\u001b[0mxbatch\u001b[0m\u001b[0;34m)\u001b[0m\u001b[0;34m)\u001b[0m\u001b[0;34m\u001b[0m\u001b[0;34m\u001b[0m\u001b[0m\n\u001b[1;32m     14\u001b[0m         \u001b[0mbatches_y\u001b[0m\u001b[0;34m.\u001b[0m\u001b[0mappend\u001b[0m\u001b[0;34m(\u001b[0m\u001b[0mtorch\u001b[0m\u001b[0;34m.\u001b[0m\u001b[0mLongTensor\u001b[0m\u001b[0;34m(\u001b[0m\u001b[0mybatch\u001b[0m\u001b[0;34m)\u001b[0m\u001b[0;34m)\u001b[0m\u001b[0;34m\u001b[0m\u001b[0;34m\u001b[0m\u001b[0m\n\u001b[0;32m---> 15\u001b[0;31m         \u001b[0mbatches_m\u001b[0m\u001b[0;34m.\u001b[0m\u001b[0mappend\u001b[0m\u001b[0;34m(\u001b[0m\u001b[0mtorch\u001b[0m\u001b[0;34m.\u001b[0m\u001b[0mBoolTensor\u001b[0m\u001b[0;34m(\u001b[0m\u001b[0mmbatch\u001b[0m\u001b[0;34m)\u001b[0m\u001b[0;34m)\u001b[0m\u001b[0;34m\u001b[0m\u001b[0;34m\u001b[0m\u001b[0m\n\u001b[0m\u001b[1;32m     16\u001b[0m \u001b[0;34m\u001b[0m\u001b[0m\n\u001b[1;32m     17\u001b[0m     \u001b[0;32mreturn\u001b[0m \u001b[0mbatches_x\u001b[0m\u001b[0;34m,\u001b[0m \u001b[0mbatches_y\u001b[0m\u001b[0;34m,\u001b[0m \u001b[0mbatches_m\u001b[0m\u001b[0;34m\u001b[0m\u001b[0;34m\u001b[0m\u001b[0m\n",
            "\u001b[0;31mKeyboardInterrupt\u001b[0m: "
          ]
        }
      ],
      "source": [
        "# ============================================\n",
        "# Q1: Transformer Hyperparameter Experiments\n",
        "# ============================================\n",
        "\n",
        "import time\n",
        "import pandas as pd\n",
        "import matplotlib.pyplot as plt\n",
        "from IPython.display import display\n",
        "\n",
        "# ---- Experiment Runner ----\n",
        "def run_experiment(\n",
        "    d_model_val=100,\n",
        "    nhead_val=2,\n",
        "    num_layers_val=1,\n",
        "    dim_ff_val=512,\n",
        "    epochs=20,\n",
        "    tag=None\n",
        "):\n",
        "    \"\"\"Train and evaluate a TransformerClassifier with specified hyperparameters.\"\"\"\n",
        "    assert d_model_val % nhead_val == 0, \"d_model must be divisible by nhead\"\n",
        "\n",
        "    global num_epochs\n",
        "    old_epochs = num_epochs\n",
        "    num_epochs = epochs\n",
        "\n",
        "    model = TransformerClassifier(\n",
        "        num_labels=len(labels),\n",
        "        d_model=d_model_val,\n",
        "        nhead=nhead_val,\n",
        "        num_encoder_layers=num_layers_val,\n",
        "        dim_feedforward=dim_ff_val\n",
        "    ).to(device)\n",
        "\n",
        "    model_file = tag or f\"model_d{d_model_val}_L{num_layers_val}_H{nhead_val}.pt\"\n",
        "\n",
        "    start = time.time()\n",
        "    _ = train(model, model_file, train_x, train_y, train_m, dev_x, dev_y, dev_m, shuffle=True)\n",
        "    end = time.time()\n",
        "\n",
        "    # Evaluate on dev data\n",
        "    dev_x_b, dev_y_b, dev_m_b = get_batches(dev_x, dev_y, dev_m, batch_size=batch_size)\n",
        "    model.load_state_dict(torch.load(model_file, map_location=device))\n",
        "    dev_acc = evaluate(model, dev_x_b, dev_y_b, dev_m_b)\n",
        "\n",
        "    num_epochs = old_epochs\n",
        "\n",
        "    print(f\"[{tag or 'exp'}] d_model={d_model_val}, layers={num_layers_val}, heads={nhead_val}, \"\n",
        "          f\"dev_acc={dev_acc:.4f}, time={end-start:.1f}s\")\n",
        "\n",
        "    return {\n",
        "        \"tag\": tag or \"exp\",\n",
        "        \"d_model\": d_model_val,\n",
        "        \"layers\": num_layers_val,\n",
        "        \"heads\": nhead_val,\n",
        "        \"dev_acc\": float(dev_acc)\n",
        "    }\n",
        "\n",
        "# ---- Baseline Run ----\n",
        "print(\"\\nRunning baseline configuration...\\n\")\n",
        "baseline = run_experiment(d_model_val=100, nhead_val=2, num_layers_val=1, epochs=20, tag=\"baseline\")\n",
        "print(\"\\nBaseline accuracy:\", baseline[\"dev_acc\"])\n",
        "\n",
        "# ---- Grid Search ----\n",
        "print(\"\\nRunning grid search...\\n\")\n",
        "d_models = [64, 100, 128, 256]\n",
        "layers_list = [1, 2]\n",
        "nheads = [2, 4, 8]\n",
        "\n",
        "results = []\n",
        "\n",
        "for d in d_models:\n",
        "    for L in layers_list:\n",
        "        for H in nheads:\n",
        "            if d % H != 0:\n",
        "                continue\n",
        "            tag = f\"d{d}_L{L}_H{H}\"\n",
        "            res = run_experiment(\n",
        "                d_model_val=d,\n",
        "                nhead_val=H,\n",
        "                num_layers_val=L,\n",
        "                dim_ff_val=512,\n",
        "                epochs=20,\n",
        "                tag=tag\n",
        "            )\n",
        "            results.append(res)\n",
        "\n",
        "# ---- Aggregate Results ----\n",
        "df = pd.DataFrame(results).sort_values(\"dev_acc\", ascending=False).reset_index(drop=True)\n",
        "\n",
        "print(\"\\nTop Configurations by Dev Accuracy:\\n\")\n",
        "display(df.head(10))\n",
        "\n",
        "# ---- Visualization ----\n",
        "plt.figure(figsize=(10,5))\n",
        "plt.bar(df[\"tag\"], df[\"dev_acc\"])\n",
        "plt.xticks(rotation=60, ha=\"right\")\n",
        "plt.ylabel(\"Dev Accuracy\")\n",
        "plt.title(\"Transformer Hyperparameter Sweep (Convote)\")\n",
        "plt.show()\n",
        "\n",
        "# ---- Optional: Re-run Best Config Longer ----\n",
        "print(\"\\nRe-running best configuration for 50 epochs...\\n\")\n",
        "best_config = df.iloc[0]\n",
        "best_long = run_experiment(\n",
        "    d_model_val=best_config[\"d_model\"],\n",
        "    nhead_val=best_config[\"heads\"],\n",
        "    num_layers_val=best_config[\"layers\"],\n",
        "    epochs=50,\n",
        "    tag=\"best_long_run\"\n",
        ")\n",
        "print(\"\\nBest long-run config:\", best_long)\n"
      ]
    },
    {
      "cell_type": "markdown",
      "metadata": {
        "id": "WWESAVi4TIF0"
      },
      "source": [
        "**Q2**. Here is some code that plots the loss curve over training. Plot the loss curve."
      ]
    },
    {
      "cell_type": "code",
      "execution_count": 20,
      "metadata": {
        "id": "iXSk9gmDTIF0",
        "colab": {
          "base_uri": "https://localhost:8080/",
          "height": 487
        },
        "outputId": "2dde80d1-6241-4cbc-8169-25d470ced910"
      },
      "outputs": [
        {
          "output_type": "display_data",
          "data": {
            "text/plain": [
              "<Figure size 800x500 with 1 Axes>"
            ],
            "image/png": "[encoded data removed]"
          },
          "metadata": {}
        }
      ],
      "source": [
        "import seaborn as sns\n",
        "import matplotlib.pyplot as plt\n",
        "\n",
        "# Define the plotting function\n",
        "def plot_loss_curve(losses):\n",
        "    plt.figure(figsize=(8,5))\n",
        "    sns.lineplot(x=range(len(losses)), y=losses)\n",
        "    plt.title(\"Training Loss Curve\")\n",
        "    plt.xlabel(\"Iteration\")\n",
        "    plt.ylabel(\"Loss\")\n",
        "    plt.show()\n",
        "\n",
        "# Plot the loss curve from your previous training\n",
        "plot_loss_curve(losses)\n"
      ]
    },
    {
      "cell_type": "markdown",
      "metadata": {
        "id": "7jKV1hIqTIF1"
      },
      "source": [
        "Do you notice any regularities in the loss? Instantiate a new classifier, but this time train with `shuffle=True`."
      ]
    },
    {
      "cell_type": "code",
      "execution_count": 21,
      "metadata": {
        "colab": {
          "base_uri": "https://localhost:8080/"
        },
        "id": "OkxajU3cTIF1",
        "outputId": "30d41500-e412-4d4e-e2f4-fee29b85218c"
      },
      "outputs": [
        {
          "output_type": "stream",
          "name": "stdout",
          "text": [
            "0.537 is better than 0.000, saving model ...\n",
            "Epoch 0, dev accuracy: 0.537, train accuracy: 0.556\n",
            "0.619 is better than 0.537, saving model ...\n",
            "Epoch 1, dev accuracy: 0.619, train accuracy: 0.607\n",
            "0.623 is better than 0.619, saving model ...\n",
            "Epoch 2, dev accuracy: 0.623, train accuracy: 0.603\n",
            "0.654 is better than 0.623, saving model ...\n",
            "Epoch 3, dev accuracy: 0.654, train accuracy: 0.669\n",
            "Epoch 4, dev accuracy: 0.634, train accuracy: 0.689\n",
            "Epoch 5, dev accuracy: 0.654, train accuracy: 0.726\n",
            "Epoch 6, dev accuracy: 0.638, train accuracy: 0.723\n",
            "Epoch 7, dev accuracy: 0.646, train accuracy: 0.773\n",
            "Epoch 8, dev accuracy: 0.642, train accuracy: 0.783\n",
            "0.658 is better than 0.654, saving model ...\n",
            "Epoch 9, dev accuracy: 0.658, train accuracy: 0.807\n",
            "0.673 is better than 0.658, saving model ...\n",
            "Epoch 10, dev accuracy: 0.673, train accuracy: 0.805\n",
            "Epoch 11, dev accuracy: 0.630, train accuracy: 0.825\n",
            "Epoch 12, dev accuracy: 0.619, train accuracy: 0.821\n",
            "Epoch 13, dev accuracy: 0.607, train accuracy: 0.835\n",
            "Epoch 14, dev accuracy: 0.634, train accuracy: 0.853\n",
            "Epoch 15, dev accuracy: 0.619, train accuracy: 0.858\n",
            "Epoch 16, dev accuracy: 0.626, train accuracy: 0.863\n",
            "Epoch 17, dev accuracy: 0.630, train accuracy: 0.872\n",
            "Epoch 18, dev accuracy: 0.619, train accuracy: 0.882\n",
            "Epoch 19, dev accuracy: 0.603, train accuracy: 0.876\n",
            "\n",
            "Best Performing Model achieves dev accuracy of : 0.673\n"
          ]
        }
      ],
      "source": [
        "new_classifier = TransformerClassifier(num_labels=len(labels), d_model=100, dim_feedforward=512)\n",
        "new_classifier = new_classifier.to(device)\n",
        "\n",
        "shuffled_losses = train(new_classifier, \"test.model\", train_x, train_y, train_m, dev_x, dev_y, dev_m, shuffle=True)"
      ]
    },
    {
      "cell_type": "markdown",
      "metadata": {
        "id": "oAuxP-GvTIF1"
      },
      "source": [
        "Plot the loss curve of this training run. How do the loss curves compare? **Consider:** why is it generally desirable to shuffle the training data at the beginning of each epoch when performing gradient descent?"
      ]
    },
    {
      "cell_type": "code",
      "execution_count": 22,
      "metadata": {
        "colab": {
          "base_uri": "https://localhost:8080/",
          "height": 487
        },
        "id": "Q1_VEJ9dTIF1",
        "outputId": "19e8225c-0bbe-43e4-a126-53a52783c969"
      },
      "outputs": [
        {
          "output_type": "display_data",
          "data": {
            "text/plain": [
              "<Figure size 800x500 with 1 Axes>"
            ],
            "image/png": "[encoded data removed]"
          },
          "metadata": {}
        }
      ],
      "source": [
        "import seaborn as sns\n",
        "import matplotlib.pyplot as plt\n",
        "\n",
        "def plot_loss_curve(losses, title=\"Training Loss Curve\"):\n",
        "    plt.figure(figsize=(8,5))\n",
        "    sns.lineplot(x=range(len(losses)), y=losses)\n",
        "    plt.title(title)\n",
        "    plt.xlabel(\"Iteration\")\n",
        "    plt.ylabel(\"Loss\")\n",
        "    plt.show()\n",
        "\n",
        "plot_loss_curve(losses, title=\"Baseline Transformer Training Loss\")\n"
      ]
    }
  ],
  "metadata": {
    "accelerator": "GPU",
    "colab": {
      "gpuType": "T4",
      "provenance": []
    },
    "kernelspec": {
      "display_name": "Python 3 (ipykernel)",
      "language": "python",
      "name": "python3"
    },
    "language_info": {
      "codemirror_mode": {
        "name": "ipython",
        "version": 3
      },
      "file_extension": ".py",
      "mimetype": "text/x-python",
      "name": "python",
      "nbconvert_exporter": "python",
      "pygments_lexer": "ipython3",
      "version": "3.8.3"
    }
  },
  "nbformat": 4,
  "nbformat_minor": 0
}