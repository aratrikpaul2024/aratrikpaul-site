{
  "cells": [
    {
      "cell_type": "markdown",
      "metadata": {
        "id": "VrNUi8VIqMxb"
      },
      "source": [
        "[![Open In Colab](https://colab.research.google.com/assets/colab-badge.svg)](https://colab.research.google.com/github/dbamman/anlp25/blob/main/2.compare/ChiSquare_Mann_Whitney.ipynb)"
      ]
    },
    {
      "cell_type": "markdown",
      "metadata": {
        "id": "DuDLKgIx5P40"
      },
      "source": [
        "# Comparing prevalence of terms"
      ]
    },
    {
      "cell_type": "markdown",
      "metadata": {
        "id": "7tZzp1UpqMxc"
      },
      "source": [
        "This notebook examines the words that distinguish the [2024 Democrat party platform](https://www.presidency.ucsb.edu/documents/2024-democratic-party-platform) from the [2024 Republican party platform](https://www.presidency.ucsb.edu/documents/2024-republican-party-platform) (both sourced from the American Presidency Project at UCSB), using the Chi-Square test and the Mann-Whitney test."
      ]
    },
    {
      "cell_type": "code",
      "execution_count": 1,
      "metadata": {
        "id": "KSP3JvxoqMxd",
        "outputId": "30124add-77f2-4560-e08d-efe591b60623",
        "colab": {
          "base_uri": "https://localhost:8080/"
        }
      },
      "outputs": [
        {
          "output_type": "stream",
          "name": "stdout",
          "text": [
            "--2025-09-04 22:42:22--  https://raw.githubusercontent.com/dbamman/anlp25/main/data/2024_democrat_party_platform.txt\n",
            "Resolving raw.githubusercontent.com (raw.githubusercontent.com)... 185.199.108.133, 185.199.111.133, 185.199.110.133, ...\n",
            "Connecting to raw.githubusercontent.com (raw.githubusercontent.com)|185.199.108.133|:443... connected.\n",
            "HTTP request sent, awaiting response... 200 OK\n",
            "Length: 283046 (276K) [text/plain]\n",
            "Saving to: ‘2024_democrat_party_platform.txt’\n",
            "\n",
            "2024_democrat_party 100%[===================>] 276.41K  1.49MB/s    in 0.2s    \n",
            "\n",
            "2025-09-04 22:42:22 (1.49 MB/s) - ‘2024_democrat_party_platform.txt’ saved [283046/283046]\n",
            "\n",
            "--2025-09-04 22:42:23--  https://raw.githubusercontent.com/dbamman/anlp25/main/data/2024_republican_party_platform.txt\n",
            "Resolving raw.githubusercontent.com (raw.githubusercontent.com)... 185.199.111.133, 185.199.108.133, 185.199.109.133, ...\n",
            "Connecting to raw.githubusercontent.com (raw.githubusercontent.com)|185.199.111.133|:443... connected.\n",
            "HTTP request sent, awaiting response... 200 OK\n",
            "Length: 35319 (34K) [text/plain]\n",
            "Saving to: ‘2024_republican_party_platform.txt’\n",
            "\n",
            "2024_republican_par 100%[===================>]  34.49K  --.-KB/s    in 0.05s   \n",
            "\n",
            "2025-09-04 22:42:23 (656 KB/s) - ‘2024_republican_party_platform.txt’ saved [35319/35319]\n",
            "\n"
          ]
        }
      ],
      "source": [
        "!wget --no-check-certificate https://raw.githubusercontent.com/dbamman/anlp25/main/data/2024_democrat_party_platform.txt\n",
        "!wget --no-check-certificate https://raw.githubusercontent.com/dbamman/anlp25/main/data/2024_republican_party_platform.txt"
      ]
    },
    {
      "cell_type": "code",
      "execution_count": 2,
      "metadata": {
        "id": "BC1YlQrCqMxd",
        "outputId": "01c5378b-d47d-456f-9344-f8a06af945c3",
        "colab": {
          "base_uri": "https://localhost:8080/"
        }
      },
      "outputs": [
        {
          "output_type": "stream",
          "name": "stderr",
          "text": [
            "[nltk_data] Downloading package punkt to /root/nltk_data...\n",
            "[nltk_data]   Unzipping tokenizers/punkt.zip.\n",
            "[nltk_data] Downloading package punkt_tab to /root/nltk_data...\n",
            "[nltk_data]   Unzipping tokenizers/punkt_tab.zip.\n"
          ]
        },
        {
          "output_type": "execute_result",
          "data": {
            "text/plain": [
              "True"
            ]
          },
          "metadata": {},
          "execution_count": 2
        }
      ],
      "source": [
        "import json\n",
        "import math\n",
        "import operator\n",
        "import sys\n",
        "from collections import Counter\n",
        "\n",
        "import nltk\n",
        "import numpy as np\n",
        "from scipy.stats import mannwhitneyu\n",
        "import matplotlib.pyplot as plt\n",
        "\n",
        "nltk.download(\"punkt\")\n",
        "nltk.download(\"punkt_tab\")"
      ]
    },
    {
      "cell_type": "code",
      "execution_count": 3,
      "metadata": {
        "id": "pvvLkCXeqMxe"
      },
      "outputs": [],
      "source": [
        "def read(filename):\n",
        "    with open(filename, encoding=\"utf-8\") as file:\n",
        "        # lowercase text\n",
        "        return file.read().lower()"
      ]
    },
    {
      "cell_type": "code",
      "execution_count": 4,
      "metadata": {
        "id": "jqJNDe47qMxe"
      },
      "outputs": [],
      "source": [
        "democrat_text = read(\"2024_democrat_party_platform.txt\")"
      ]
    },
    {
      "cell_type": "code",
      "execution_count": 5,
      "metadata": {
        "id": "4zkSWZ9qqMxe"
      },
      "outputs": [],
      "source": [
        "republican_text = read(\"2024_republican_party_platform.txt\")"
      ]
    },
    {
      "cell_type": "markdown",
      "metadata": {
        "id": "USCfgZluqMxf"
      },
      "source": [
        "Explore your assumptions between the words you think will most distinguish the Democrat and Republican platforms.  Before looking at the results of the tests, what words do you think will be comparatively distinct to both?  (If you're not familiar with either, scan the platforms linked above)."
      ]
    },
    {
      "cell_type": "code",
      "execution_count": 6,
      "metadata": {
        "id": "KXCKW8wiqMxf"
      },
      "outputs": [],
      "source": [
        "def tokenize(data):\n",
        "    return nltk.word_tokenize(data)"
      ]
    },
    {
      "cell_type": "code",
      "execution_count": 7,
      "metadata": {
        "id": "-oO8SKYnqMxf"
      },
      "outputs": [],
      "source": [
        "def get_counts(tokens):\n",
        "    counts = Counter()\n",
        "    for token in tokens:\n",
        "        counts[token] += 1\n",
        "    return counts"
      ]
    },
    {
      "cell_type": "markdown",
      "metadata": {
        "id": "_rHDsT60qMxf"
      },
      "source": [
        "## $\\chi^2$ test\n",
        "\n",
        "The $\\chi^2$ test as used in the comparison of different texts is designed to measure how statistically significant the distribution of counts in a 2x2 contingency table is.  Use the following function to analyze the difference between the platforms.  How do the most distinct terms comport with your assumptions?"
      ]
    },
    {
      "cell_type": "code",
      "execution_count": 8,
      "metadata": {
        "id": "d9d4EOY75P43"
      },
      "outputs": [],
      "source": [
        "def get_contingency_table(word, word_counts_a, word_counts_b, total_count_a = None, total_count_b = None):\n",
        "    \"\"\"\n",
        "    Construct a 2x2 contingency table that takes the form of:\n",
        "\n",
        "      # word in A | # word in B\n",
        "    --------------+--------------\n",
        "     # total in A | # total in B\n",
        "    \"\"\"\n",
        "    # we can take the total counts as input if they are precomputed\n",
        "    # otherwise, we can also compute them easily by summing the word counts\n",
        "    if total_count_a is None:\n",
        "        total_count_a = sum(word_counts_a.values())\n",
        "    if total_count_b is None:\n",
        "        total_count_b = sum(word_counts_b.values())\n",
        "\n",
        "    return np.array([\n",
        "        [word_counts_a[word], word_counts_b[word]],\n",
        "        [total_count_a - word_counts_a[word], total_count_b - word_counts_b[word]]\n",
        "    ])\n",
        "\n",
        "def chi_sq(o):\n",
        "    \"\"\"Calculate chi-square value for 2x2 contingency table o\n",
        "\n",
        "    We use the simpler form given in Manning and Schuetze (1999)\n",
        "    for 2x2 contingency tables:\n",
        "    https://nlp.stanford.edu/fsnlp/promo/colloc.pdf, equation 5.7\n",
        "    \"\"\"\n",
        "\n",
        "    N = o.sum()\n",
        "    return (N * (o[0,0] * o[1,1] - o[0,1] * o[1,0]) ** 2) / ((o[0,0] + o[0,1]) * (o[0,0] + o[1,0]) * (o[0,1] + o[1,1]) * (o[1,0] + o[1,1]))\n",
        "\n",
        "def run_chi_square_on_corpus(word_counts_a, word_counts_b):\n",
        "    total_count_a = 0.0\n",
        "    total_count_b = 0.0\n",
        "    vocab = {}\n",
        "    for word in word_counts_a:\n",
        "        vocab[word] = 1\n",
        "        total_count_a += word_counts_a[word]\n",
        "    for word in word_counts_b:\n",
        "        vocab[word] = 1\n",
        "        total_count_b += word_counts_b[word]\n",
        "\n",
        "    total_words = total_count_a + total_count_b\n",
        "\n",
        "    chisq_vals = {}\n",
        "    for word in vocab:\n",
        "        contingency_table = get_contingency_table(\n",
        "            word,\n",
        "            word_counts_a,\n",
        "            word_counts_b,\n",
        "            total_count_a,\n",
        "            total_count_b\n",
        "        )\n",
        "\n",
        "        chisq_vals[word] = chi_sq(contingency_table)\n",
        "\n",
        "    sorted_chi = sorted(chisq_vals.items(), key=lambda x: x[1], reverse=True)\n",
        "    corpus_a_words = []\n",
        "    corpus_b_words = []\n",
        "\n",
        "    for word, chisq_val in sorted_chi:\n",
        "        if word_counts_a[word] / total_count_a > word_counts_b[word] / total_count_b:\n",
        "            corpus_a_words.append(word)\n",
        "        else:\n",
        "            corpus_b_words.append(word)\n",
        "\n",
        "    print(\"Democrat:\\n\")\n",
        "    for word in corpus_a_words[:20]:\n",
        "        print(f\"{word}\\t{chisq_vals[word]}\")\n",
        "\n",
        "    print(\"Republican:\\n\")\n",
        "    for word in corpus_b_words[:20]:\n",
        "        print(f\"{word}\\t{chisq_vals[word]}\")"
      ]
    },
    {
      "cell_type": "code",
      "execution_count": 9,
      "metadata": {
        "id": "iDNMZZiKqMxg"
      },
      "outputs": [],
      "source": [
        "democrat_tokens = tokenize(democrat_text)\n",
        "democrat_counts = get_counts(democrat_tokens)"
      ]
    },
    {
      "cell_type": "code",
      "execution_count": 10,
      "metadata": {
        "id": "Nk5I4JoKqMxg"
      },
      "outputs": [],
      "source": [
        "republican_tokens = tokenize(republican_text)\n",
        "republican_counts = get_counts(republican_tokens)"
      ]
    },
    {
      "cell_type": "markdown",
      "metadata": {
        "id": "aj86J6L_5P44"
      },
      "source": [
        "Before running chi-square on all the words, let's step through the calculation on a single word first. We begin by plotting the 2x2 contingency table of the occurrences of each word in each corpus. We normalize to get probabilities."
      ]
    },
    {
      "cell_type": "code",
      "execution_count": 11,
      "metadata": {
        "jupyter": {
          "source_hidden": true
        },
        "id": "iY1KgIcf5P44"
      },
      "outputs": [],
      "source": [
        "def plot_contingency_table(table, normalize=False):\n",
        "    if normalize:\n",
        "        table = table / table.sum(axis=0)\n",
        "\n",
        "\n",
        "    fig, ax = plt.subplots()\n",
        "    im = ax.imshow(table, aspect='auto')\n",
        "\n",
        "    ax.set_xticks(range(table.shape[1]))\n",
        "    ax.set_yticks(range(table.shape[0]))\n",
        "\n",
        "    for i in range(table.shape[0]):\n",
        "        for j in range(table.shape[1]):\n",
        "            value = table.iloc[i, j] if hasattr(table, 'iloc') else table[i, j]\n",
        "            text_color = 'white' if value < table.max() * 0.5 else 'black'\n",
        "\n",
        "            if normalize:\n",
        "                text = f'{value:.3f}'\n",
        "            else:\n",
        "                text = f'{int(value)}'\n",
        "\n",
        "            ax.text(j, i, text, ha='center', va='center',\n",
        "                   color=text_color, fontsize=12, fontweight='bold')\n",
        "\n",
        "    title = \"Contingency Table\"\n",
        "    x_label = \"Corpus\"\n",
        "    y_label = \"Present\"\n",
        "    ax.set_title(title, fontsize=16, fontweight='bold', pad=20)\n",
        "    ax.set_xlabel(x_label, fontsize=14, fontweight='bold')\n",
        "    ax.set_ylabel(y_label, fontsize=14, fontweight='bold')\n",
        "    ax.set_xticklabels([\"Democrat\", \"Republican\"])\n",
        "    ax.set_yticklabels([\"Yes\", \"No\"])\n",
        "    # Add grid\n",
        "    ax.set_xticks(np.arange(table.shape[1]+1)-.5, minor=True)\n",
        "    ax.set_yticks(np.arange(table.shape[0]+1)-.5, minor=True)\n",
        "    ax.grid(which='minor', color='black', linestyle='-', linewidth=1)\n",
        "\n",
        "    plt.tight_layout()\n",
        "    return ax\n"
      ]
    },
    {
      "cell_type": "code",
      "execution_count": 12,
      "metadata": {
        "id": "QnvZPngx5P44"
      },
      "outputs": [],
      "source": [
        "table = get_contingency_table(\"biden\", democrat_counts, republican_counts)"
      ]
    },
    {
      "cell_type": "code",
      "execution_count": 13,
      "metadata": {
        "id": "GL5AD-_-5P44",
        "outputId": "e599a569-78b8-4e0a-be37-d3b25a4aa07c",
        "colab": {
          "base_uri": "https://localhost:8080/",
          "height": 487
        }
      },
      "outputs": [
        {
          "output_type": "display_data",
          "data": {
            "text/plain": [
              "<Figure size 640x480 with 1 Axes>"
            ],
            "image/png": "[encoded data removed]"
          },
          "metadata": {}
        }
      ],
      "source": [
        "plot_contingency_table(table, normalize=True);"
      ]
    },
    {
      "cell_type": "markdown",
      "metadata": {
        "id": "tRTAWpya5P44"
      },
      "source": [
        "We can see that the Democrat platform mentions \"biden\" more, but is this statistically significant? We can use the chi-square test to test against the null hypothesis that the distribution of \"biden\" in the two platforms are equivalent.\n",
        "\n",
        "For two categories, we can consult a [chi-square table](https://math.arizona.edu/~jwatkins/chi-square-table.pdf) to see that a value of $>7.879$ yields a statistically significant result at $\\alpha = 0.005$."
      ]
    },
    {
      "cell_type": "code",
      "execution_count": 14,
      "metadata": {
        "id": "Y0cm6v045P44",
        "outputId": "d97354fb-8c38-465f-ecd3-04aa803bc57b",
        "colab": {
          "base_uri": "https://localhost:8080/"
        }
      },
      "outputs": [
        {
          "output_type": "execute_result",
          "data": {
            "text/plain": [
              "np.float64(21.957209570755417)"
            ]
          },
          "metadata": {},
          "execution_count": 14
        }
      ],
      "source": [
        "chi_sq(table)"
      ]
    },
    {
      "cell_type": "markdown",
      "metadata": {
        "id": "F4xCHRSW5P44"
      },
      "source": [
        "Now let's run the chi-square test on all the words in the vocabulary to see which ones are more prevalent in which platform."
      ]
    },
    {
      "cell_type": "code",
      "execution_count": 15,
      "metadata": {
        "id": "BqyUZIP0qMxg",
        "scrolled": true,
        "outputId": "fa078390-3e01-45cc-b882-cc4019b74424",
        "colab": {
          "base_uri": "https://localhost:8080/"
        }
      },
      "outputs": [
        {
          "output_type": "stream",
          "name": "stdout",
          "text": [
            "Democrat:\n",
            "\n",
            "he\t25.578937907602207\n",
            "president\t25.240684588166364\n",
            "biden\t21.957209570755417\n",
            "health\t20.629391568069238\n",
            "has\t18.46851899852054\n",
            ";\t17.350548213383796\n",
            "more\t16.24209281464817\n",
            "to\t14.720925762720206\n",
            "–\t13.06757521862527\n",
            "democrats\t12.75739755945743\n",
            "his\t11.894371467083399\n",
            "also\t10.896188152916178\n",
            "administration\t10.652501762817238\n",
            "'ll\t10.299101170499748\n",
            "$\t10.293492985209557\n",
            "million\t9.921755986169687\n",
            "communities\t9.911181439317904\n",
            "climate\t9.795983533827304\n",
            "'re\t9.292940096456055\n",
            "'s\t9.092220881909837\n",
            "Republican:\n",
            "\n",
            "republicans\t362.5062166239803\n",
            "our\t144.34125820348544\n",
            "will\t132.9429440298066\n",
            "restore\t123.66140922422055\n",
            "american\t121.36685794807758\n",
            "sense\t103.68547886176314\n",
            "party\t94.2393522889684\n",
            "great\t93.45494168709324\n",
            "1.\t87.73063575523085\n",
            "2.\t87.73063575523085\n",
            "3.\t87.73063575523085\n",
            "4.\t87.73063575523085\n",
            "common\t86.42988534079244\n",
            "5.\t79.753654870448\n",
            "borders\t70.69751070564378\n",
            "illegal\t70.57151364994098\n",
            "!\t63.80057435671095\n",
            "republican\t56.80659867119803\n",
            "6.\t55.824474695305135\n",
            "stop\t53.99989143674314\n"
          ]
        }
      ],
      "source": [
        "run_chi_square_on_corpus(democrat_counts, republican_counts)"
      ]
    },
    {
      "cell_type": "markdown",
      "metadata": {
        "id": "XdvKpqB_qMxg"
      },
      "source": [
        "Are these results surprising? Examine specific words to check their frequency in both datasets."
      ]
    },
    {
      "cell_type": "code",
      "execution_count": 16,
      "metadata": {
        "id": "X1gXHG__qMxg",
        "outputId": "e73fe089-71d6-42c9-abaf-54d04db1b2e4",
        "colab": {
          "base_uri": "https://localhost:8080/"
        }
      },
      "outputs": [
        {
          "output_type": "stream",
          "name": "stdout",
          "text": [
            "Totals: R: 6053, D: 48266\n"
          ]
        }
      ],
      "source": [
        "print(\"Totals: R: %s, D: %s\" % (len(republican_tokens), len(democrat_tokens)))"
      ]
    },
    {
      "cell_type": "code",
      "execution_count": 17,
      "metadata": {
        "id": "kTz_NjjmqMxg",
        "outputId": "14b064e7-5f5f-45f6-85ec-10b847bc900b",
        "colab": {
          "base_uri": "https://localhost:8080/"
        }
      },
      "outputs": [
        {
          "output_type": "stream",
          "name": "stdout",
          "text": [
            "climate -- R: 0, D: 78\n"
          ]
        }
      ],
      "source": [
        "word = \"climate\"\n",
        "print(\"%s -- R: %s, D: %s\" % (word, republican_counts[word], democrat_counts[word]))"
      ]
    },
    {
      "cell_type": "markdown",
      "metadata": {
        "id": "0t9Rx-7eqMxh"
      },
      "source": [
        "## Mann-Whitney\n",
        "\n",
        "We saw earlier that $\\chi^2$ is not a perfect estimator since doesn't account for the \"burstiness\" of language -- if we see the word \"Dracula\" in a text, we're probably going to see it again in that same text. The occurrence of words are not independent random events; they are tightly coupled with each other. If we're trying to understanding the robust differences between two corpora, we might prefer to prioritize words that show up more frequently everywhere in corpus A (but not in corpus B) over those that show up only very frequently within narrow slice of A (such as one text in a genre, one chapter in a book, or one speaker when measuring the differences between policital parties). Use the following function to execute the Mann-Whitney test to account for this phenomenon while finding distinctive terms."
      ]
    },
    {
      "cell_type": "code",
      "execution_count": 18,
      "metadata": {
        "id": "zUbAvY2K5P45"
      },
      "outputs": [],
      "source": [
        "def count_differences(tokens_a, tokens_b):\n",
        "    \"\"\"Measure the difference in the frequency of each word between two corpora.\"\"\"\n",
        "    total_len_a = len(tokens_a)\n",
        "    total_len_b = len(tokens_b)\n",
        "\n",
        "    word_counts_a = Counter(tokens_a)\n",
        "    word_counts_b = Counter(tokens_b)\n",
        "\n",
        "    vocab = set(word_counts_a) | set(word_counts_b)\n",
        "\n",
        "    differences = {}\n",
        "    for word in vocab:\n",
        "        freq_a = word_counts_a[word] / total_len_a\n",
        "        freq_b = word_counts_b[word] / total_len_b\n",
        "        diff = freq_a - freq_b\n",
        "        differences[word] = diff\n",
        "\n",
        "    return differences\n",
        "\n",
        "\n",
        "def get_chunk_counts(tokens, chunk_size):\n",
        "    \"\"\"Get token counts for chunks of the corpus.\n",
        "\n",
        "    Returns a list of Counters, each with token counts for their respective chunk.\n",
        "    \"\"\"\n",
        "    chunks = []\n",
        "    for i in range(0, len(tokens), chunk_size):\n",
        "        counts = Counter()\n",
        "        for j in range(chunk_size):\n",
        "            if i + j < len(tokens):\n",
        "                counts[tokens[i + j]] += 1\n",
        "        chunks.append(counts)\n",
        "    return chunks\n",
        "\n",
        "\n",
        "def mann_whitney(tokens_a, tokens_b):\n",
        "    chunk_size = 500\n",
        "    chunks_a = get_chunk_counts(tokens_a, chunk_size)\n",
        "    chunks_b = get_chunk_counts(tokens_b, chunk_size)\n",
        "\n",
        "    pvals = {}\n",
        "    vocab = set(tokens_a + tokens_b)\n",
        "    for word in vocab:\n",
        "        a = []\n",
        "        b = []\n",
        "\n",
        "        # Note a and b can be different lengths (i.e., different sample sizes)\n",
        "        #\n",
        "        # See Mann and Whitney (1947), \"On a Test of Whether one of Two Random\n",
        "        # Variables is Stochastically Larger than the Other\"\n",
        "        # https://projecteuclid.org/download/pdf_1/euclid.aoms/1177730491\n",
        "\n",
        "        # (This is part of their innovation over the case of equal sample sizes in Wilcoxon 1945)\n",
        "\n",
        "        for chunk in chunks_a:\n",
        "            a.append(chunk[word])\n",
        "        for chunk in chunks_b:\n",
        "            b.append(chunk[word])\n",
        "\n",
        "        # Consider: what information do `a` and `b` encode?\n",
        "\n",
        "        # we use the scipy implementation of the Mann-Whitney U rank test\n",
        "        # see: https://docs.scipy.org/doc/scipy/reference/generated/scipy.stats.mannwhitneyu.html\n",
        "        statistic, pval = mannwhitneyu(a, b, alternative=\"two-sided\")\n",
        "\n",
        "        # We'll use the p-value as our quantity of interest.  [Note in the normal appproximation\n",
        "        # that Mann-Whitney uses to assess significance for large sample sizes, the significance\n",
        "        # of the raw statistic depends on the number of ties in the data, so the statistic itself\n",
        "        # isn't exactly comparable across different words]\n",
        "        pvals[word] = pval\n",
        "\n",
        "    return pvals\n",
        "\n",
        "\n",
        "def mann_whitney_analysis(tokens_a, tokens_b):\n",
        "\n",
        "    pvals = mann_whitney(tokens_a, tokens_b)\n",
        "\n",
        "    # Mann-Whitney tells us the significance of a term's difference in two groups, but we also\n",
        "    # need the directionality of that difference (whether it's used more by group A or group B.\n",
        "\n",
        "    # Let's use our difference-in-proportions function above to check the directionality.\n",
        "    # [Note we could also measure directionality by checking whether the Mann-Whitney statistic\n",
        "    # is greater or less than the mean=len(one_chunks)*len(two_chunks)*0.5.]\n",
        "\n",
        "    differences = count_differences(tokens_a, tokens_b)\n",
        "\n",
        "    terms_a = {k : pvals[k] for k in pvals if differences[k] <= 0}\n",
        "    terms_b = {k : pvals[k] for k in pvals if differences[k] > 0}\n",
        "\n",
        "    sorted_pvals = sorted(terms_a.items(), key=lambda x: x[1])\n",
        "    print(\"More Republican:\\n\")\n",
        "    for k,v in sorted_pvals[:20]:\n",
        "        print(\"%s\\t%.15f\" % (k,v))\n",
        "\n",
        "    print(\"\\nMore Democrat:\\n\")\n",
        "    sorted_pvals = sorted(terms_b.items(), key=operator.itemgetter(1))\n",
        "    for k,v in sorted_pvals[:25]:\n",
        "        print(\"%s\\t%.15f\" % (k,v))"
      ]
    },
    {
      "cell_type": "code",
      "execution_count": 19,
      "metadata": {
        "id": "UxFs1GI8qMxh",
        "outputId": "2f529b3e-8063-4cf0-e3ca-cfd7e4194a24",
        "colab": {
          "base_uri": "https://localhost:8080/"
        }
      },
      "outputs": [
        {
          "output_type": "stream",
          "name": "stdout",
          "text": [
            "More Republican:\n",
            "\n",
            "3.\t0.000000000000000\n",
            "2.\t0.000000000000000\n",
            "4.\t0.000000000000000\n",
            "5.\t0.000000000000002\n",
            "1.\t0.000000000000002\n",
            "party\t0.000000000000038\n",
            "6.\t0.000000000000114\n",
            "sense\t0.000000000008190\n",
            "common\t0.000000000144498\n",
            "7.\t0.000000000528410\n",
            "!\t0.000000000534225\n",
            "defend\t0.000000017446747\n",
            "borders\t0.000000022951439\n",
            "restore\t0.000000031100963\n",
            "radical\t0.000000032959074\n",
            "migrant\t0.000000033003564\n",
            "republican\t0.000000046730387\n",
            "offer\t0.000000092697227\n",
            "great\t0.000000127801343\n",
            "foreign\t0.000000230012201\n",
            "\n",
            "More Democrat:\n",
            "\n",
            "has\t0.000021982540537\n",
            "biden\t0.000022788005994\n",
            "president\t0.000026908311868\n",
            "more\t0.000087246628506\n",
            ";\t0.000129165227037\n",
            "he\t0.000135614740502\n",
            "administration\t0.000546785654793\n",
            "his\t0.000651393384907\n",
            "also\t0.001048131366703\n",
            "–\t0.001138187086232\n",
            "health\t0.001163384894353\n",
            "to\t0.001367427651009\n",
            "'s\t0.001680150044372\n",
            "democrats\t0.002018344719265\n",
            "is\t0.003060608048870\n",
            "million\t0.003655707966951\n",
            "for\t0.004348220401109\n",
            "communities\t0.004826808497881\n",
            "across\t0.007078041735568\n",
            "continue\t0.008414709453209\n",
            "percent\t0.010707997778651\n",
            "working\t0.011752547675000\n",
            "'re\t0.012373127683975\n",
            "$\t0.012893867071563\n",
            "a\t0.013444967556535\n"
          ]
        }
      ],
      "source": [
        "mann_whitney_analysis(democrat_tokens, republican_tokens)"
      ]
    }
  ],
  "metadata": {
    "colab": {
      "provenance": []
    },
    "kernelspec": {
      "display_name": "Python 3 (ipykernel)",
      "language": "python",
      "name": "python3"
    },
    "language_info": {
      "codemirror_mode": {
        "name": "ipython",
        "version": 3
      },
      "file_extension": ".py",
      "mimetype": "text/x-python",
      "name": "python",
      "nbconvert_exporter": "python",
      "pygments_lexer": "ipython3",
      "version": "3.13.5"
    }
  },
  "nbformat": 4,
  "nbformat_minor": 0
}